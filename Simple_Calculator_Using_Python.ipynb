{
 "cells": [
  {
   "cell_type": "code",
   "execution_count": 42,
   "id": "a324395f-08c5-4c0c-8e4a-01b48abadf07",
   "metadata": {},
   "outputs": [],
   "source": [
    "import tkinter as tk\n",
    "\n",
    "class Calculator:\n",
    "    def __init__(self, window):\n",
    "        self.window = window\n",
    "        self.window.title(\"Simple Calculator\")\n",
    "\n",
    "        self.entry = tk.Entry(window, font=(\"Arial\", 18), justify=\"right\", bd=5)\n",
    "        self.entry.place(x=10, y=10, width=280, height=50)  \n",
    "        self.window.geometry(\"300x400\")\n",
    "\n",
    "        buttons = [\n",
    "            ('7', 10, 70), ('8', 80, 70), ('9', 150, 70), ('/', 220, 70),\n",
    "            ('4', 10, 140), ('5', 80, 140), ('6', 150, 140), ('*', 220, 140),\n",
    "            ('1', 10, 210), ('2', 80, 210), ('3', 150, 210), ('-', 220, 210),\n",
    "            ('C', 10, 280), ('0', 80, 280), ('=', 150, 280), ('+', 220, 280)\n",
    "        ]\n",
    "        for text, x, y in buttons:\n",
    "            tk.Button(window, text=text, font=(\"Arial\", 14), width=5, height=2,\n",
    "                      command=lambda t=text: self.button_click(t)).place(x=x, y=y)\n",
    "\n",
    "    def button_click(self, button_text):\n",
    "        if button_text == '=':\n",
    "            try:\n",
    "                result = eval(self.entry.get())\n",
    "                self.entry.delete(0,tk.END)\n",
    "                self.entry.insert(tk.END, str(result))\n",
    "            except:\n",
    "                self.entry.delete(0, tk.END)\n",
    "                self.entry.insert(0, \"Error\")\n",
    "        elif button_text == 'C':\n",
    "            self.entry.delete(0, tk.END)\n",
    "        else:\n",
    "            self.entry.insert(tk.END, button_text)\n",
    "\n",
    "\n",
    "window = tk.Tk()\n",
    "calc = Calculator(window)\n",
    "window.mainloop()"
   ]
  },
  {
   "cell_type": "code",
   "execution_count": null,
   "id": "2a5bc45b-d81a-46ba-8da7-589c99958771",
   "metadata": {},
   "outputs": [],
   "source": []
  }
 ],
 "metadata": {
  "kernelspec": {
   "display_name": "Python 3 (ipykernel)",
   "language": "python",
   "name": "python3"
  },
  "language_info": {
   "codemirror_mode": {
    "name": "ipython",
    "version": 3
   },
   "file_extension": ".py",
   "mimetype": "text/x-python",
   "name": "python",
   "nbconvert_exporter": "python",
   "pygments_lexer": "ipython3",
   "version": "3.12.7"
  }
 },
 "nbformat": 4,
 "nbformat_minor": 5
}
