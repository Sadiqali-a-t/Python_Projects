{
 "cells": [
  {
   "cell_type": "code",
   "execution_count": 1,
   "id": "5f5db18c-a6e9-4dfe-8eb6-b5ff2ef1998a",
   "metadata": {},
   "outputs": [
    {
     "name": "stdout",
     "output_type": "stream",
     "text": [
      "O | O | X\n",
      "---------\n",
      "X | X | X\n",
      "---------\n",
      "O | X | O\n",
      "---------\n",
      "Player X wins!\n"
     ]
    },
    {
     "name": "stdin",
     "output_type": "stream",
     "text": [
      "Do you want to play again? (y/n):  n\n"
     ]
    }
   ],
   "source": [
    "from IPython.display import clear_output\n",
    "\n",
    "def print_board(board):\n",
    "    clear_output()  \n",
    "    for row in board:\n",
    "        print(\" | \".join(row))\n",
    "        print(\"-\" * 9)\n",
    "\n",
    "def check_winner(board, player):\n",
    "    for row in board:\n",
    "        if all(cell == player for cell in row):\n",
    "            return True\n",
    "    \n",
    "    for col in range(3):\n",
    "        if all(board[row][col] == player for row in range(3)):\n",
    "            return True\n",
    "    \n",
    "    if all(board[i][i] == player for i in range(3)) or all(board[i][2 - i] == player for i in range(3)):\n",
    "        return True\n",
    "    \n",
    "    return False\n",
    "\n",
    "def is_full(board):\n",
    "    return all(cell in ('X', 'O') for row in board for cell in row)\n",
    "\n",
    "def full_board_check(board):\n",
    "    return is_full(board)\n",
    "\n",
    "def player_choice(board):\n",
    "    while True:\n",
    "        try:\n",
    "            position = int(input(\"Enter your move (1-9): \")) - 1\n",
    "            row, col = divmod(position, 3)\n",
    "            if board[row][col] == ' ':\n",
    "                return row, col\n",
    "            else:\n",
    "                print(\"That spot is already taken. Try again.\")\n",
    "        except (ValueError, IndexError):\n",
    "            print(\"Invalid input. Enter a number between 1 and 9.\")\n",
    "\n",
    "def replay():\n",
    "    return input(\"Do you want to play again? (y/n): \").lower() == 'y'\n",
    "\n",
    "def tic_tac_toe():\n",
    "    while True:\n",
    "        board = [[' ' for _ in range(3)] for _ in range(3)]\n",
    "        players = ['X', 'O']\n",
    "        \n",
    "        print(\"Welcome to Tic Tac Toe!\")\n",
    "        print_board(board)\n",
    "        \n",
    "        while True:\n",
    "            for player in players:\n",
    "                print(f\"Player {player}'s turn.\")\n",
    "                row, col = player_choice(board)\n",
    "                board[row][col] = player\n",
    "                print_board(board)\n",
    "                \n",
    "                if check_winner(board, player):\n",
    "                    print(f\"Player {player} wins!\")\n",
    "                    break\n",
    "                \n",
    "                if full_board_check(board):\n",
    "                    print(\"It's a draw!\")\n",
    "                    break\n",
    "            else:\n",
    "                continue\n",
    "            break\n",
    "        \n",
    "        if not replay():\n",
    "            break\n",
    "\n",
    "tic_tac_toe()"
   ]
  },
  {
   "cell_type": "code",
   "execution_count": null,
   "id": "0761d472-ad6a-4a1c-b47c-d9f78d62a0eb",
   "metadata": {},
   "outputs": [],
   "source": []
  }
 ],
 "metadata": {
  "kernelspec": {
   "display_name": "Python 3 (ipykernel)",
   "language": "python",
   "name": "python3"
  },
  "language_info": {
   "codemirror_mode": {
    "name": "ipython",
    "version": 3
   },
   "file_extension": ".py",
   "mimetype": "text/x-python",
   "name": "python",
   "nbconvert_exporter": "python",
   "pygments_lexer": "ipython3",
   "version": "3.12.7"
  }
 },
 "nbformat": 4,
 "nbformat_minor": 5
}
