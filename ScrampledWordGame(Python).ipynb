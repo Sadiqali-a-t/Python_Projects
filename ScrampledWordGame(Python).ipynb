{
 "cells": [
  {
   "cell_type": "code",
   "execution_count": null,
   "id": "8a12916d-c1bb-4872-8f56-ebeb20d85cf3",
   "metadata": {},
   "outputs": [
    {
     "name": "stdout",
     "output_type": "stream",
     "text": [
      "Welcome to the game\n",
      "Unscrample this word: ppoillo\n"
     ]
    },
    {
     "name": "stdin",
     "output_type": "stream",
     "text": [
      "Your answer:  lolipop\n"
     ]
    },
    {
     "name": "stdout",
     "output_type": "stream",
     "text": [
      "YOU ARE CORRECT\n"
     ]
    },
    {
     "name": "stdin",
     "output_type": "stream",
     "text": [
      "Do you want to continue(yes/no):  yes\n"
     ]
    },
    {
     "name": "stdout",
     "output_type": "stream",
     "text": [
      "Welcome to the game\n",
      "Unscrample this word: tergi\n"
     ]
    },
    {
     "name": "stdin",
     "output_type": "stream",
     "text": [
      "Your answer:  tiger\n"
     ]
    },
    {
     "name": "stdout",
     "output_type": "stream",
     "text": [
      "YOU ARE CORRECT\n"
     ]
    },
    {
     "name": "stdin",
     "output_type": "stream",
     "text": [
      "Do you want to continue(yes/no):  yes\n"
     ]
    },
    {
     "name": "stdout",
     "output_type": "stream",
     "text": [
      "Welcome to the game\n",
      "Unscrample this word: rseo\n"
     ]
    },
    {
     "name": "stdin",
     "output_type": "stream",
     "text": [
      "Your answer:  rose\n"
     ]
    },
    {
     "name": "stdout",
     "output_type": "stream",
     "text": [
      "YOU ARE CORRECT\n"
     ]
    },
    {
     "name": "stdin",
     "output_type": "stream",
     "text": [
      "Do you want to continue(yes/no):  yes\n"
     ]
    },
    {
     "name": "stdout",
     "output_type": "stream",
     "text": [
      "Welcome to the game\n",
      "Unscrample this word: aanabn\n"
     ]
    },
    {
     "name": "stdin",
     "output_type": "stream",
     "text": [
      "Your answer:  banana\n"
     ]
    },
    {
     "name": "stdout",
     "output_type": "stream",
     "text": [
      "YOU ARE CORRECT\n"
     ]
    }
   ],
   "source": [
    "import random\n",
    "\n",
    "def shuffled_word(word):\n",
    "    word_list = list(word)\n",
    "    random.shuffle(word_list)\n",
    "    return ''.join(word_list)\n",
    "\n",
    "def play_game():\n",
    "    print(\"Welcome to the game\")\n",
    "\n",
    "    word = ['apple', 'rose', 'tiger', 'snake', 'lolipop','banana']\n",
    "\n",
    "    original_word = random.choice(word)\n",
    "\n",
    "    shuffled = shuffled_word(original_word)\n",
    "\n",
    "    print(f'Unscrample this word: {shuffled}')\n",
    "\n",
    "    user_guess = input('Your answer: ').lower()\n",
    "\n",
    "    if user_guess == original_word:\n",
    "        print(\"YOU ARE CORRECT\")\n",
    "        \n",
    "    else:\n",
    "        print(\"WRONG GUESS\")\n",
    "\n",
    "def continuation():\n",
    "    while True:\n",
    "        play_game()\n",
    "\n",
    "        play_again = input(\"Do you want to continue(yes/no): \").lower()\n",
    "        if play_again == 'no':\n",
    "            print(\"Thank you for playing this game\")\n",
    "            break\n",
    "        \n",
    "\n",
    "continuation()"
   ]
  }
 ],
 "metadata": {
  "kernelspec": {
   "display_name": "Python 3 (ipykernel)",
   "language": "python",
   "name": "python3"
  },
  "language_info": {
   "codemirror_mode": {
    "name": "ipython",
    "version": 3
   },
   "file_extension": ".py",
   "mimetype": "text/x-python",
   "name": "python",
   "nbconvert_exporter": "python",
   "pygments_lexer": "ipython3",
   "version": "3.12.7"
  }
 },
 "nbformat": 4,
 "nbformat_minor": 5
}
