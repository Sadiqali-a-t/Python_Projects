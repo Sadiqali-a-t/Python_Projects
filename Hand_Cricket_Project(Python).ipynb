{
 "cells": [
  {
   "cell_type": "code",
   "execution_count": null,
   "id": "c14ea97a-4929-41f3-b7fc-964b49a6bf77",
   "metadata": {},
   "outputs": [
    {
     "name": "stdin",
     "output_type": "stream",
     "text": [
      "Enter Player 1 name:  A\n",
      "Enter Player 2 name:  B\n"
     ]
    },
    {
     "name": "stdout",
     "output_type": "stream",
     "text": [
      "First Innings\n",
      "A is batting!\n"
     ]
    },
    {
     "name": "stdin",
     "output_type": "stream",
     "text": [
      "A, enter a number (1-6):  3\n",
      "B, enter a number (1-6):  2\n"
     ]
    },
    {
     "name": "stdout",
     "output_type": "stream",
     "text": [
      "B bowled: 2\n",
      "A's Score: 3\n"
     ]
    },
    {
     "name": "stdin",
     "output_type": "stream",
     "text": [
      "A, enter a number (1-6):  4\n",
      "B, enter a number (1-6):  5\n"
     ]
    },
    {
     "name": "stdout",
     "output_type": "stream",
     "text": [
      "B bowled: 5\n",
      "A's Score: 7\n"
     ]
    },
    {
     "name": "stdin",
     "output_type": "stream",
     "text": [
      "A, enter a number (1-6):  3\n",
      "B, enter a number (1-6):  3\n"
     ]
    },
    {
     "name": "stdout",
     "output_type": "stream",
     "text": [
      "B bowled: 3\n",
      "A is OUT!\n",
      "Target for B: 8\n",
      "Second Innings\n",
      "B is batting!\n"
     ]
    },
    {
     "name": "stdin",
     "output_type": "stream",
     "text": [
      "B, enter a number (1-6):  3\n",
      "A, enter a number (1-6):  2\n"
     ]
    },
    {
     "name": "stdout",
     "output_type": "stream",
     "text": [
      "A bowled: 2\n",
      "B's Score: 3\n"
     ]
    }
   ],
   "source": [
    "class Player:\n",
    "    def __init__(self, name):\n",
    "        self.name = name\n",
    "        self.score = 0\n",
    "        self.is_out = False\n",
    "    def play(self):\n",
    "         while True:\n",
    "             try:\n",
    "                 num = int(input(f\"{self.name}, enter a number (1-6): \"))\n",
    "                 if 1 <= num <= 6:\n",
    "                     return num\n",
    "                 else:\n",
    "                     print(\"Invalid input! Enter a number between 1 and 6.\")\n",
    "             except ValueError:\n",
    "                 print(\"Please enter a valid integer.\")\n",
    "\n",
    "class HandCricket:\n",
    "    def __init__(self, player1_name, player2_name):\n",
    "        self.player1 = Player(player1_name)\n",
    "        self.player2 = Player(player2_name)\n",
    "        self.target = None\n",
    "    def play_innings(self, batting, bowling):\n",
    "        print(f\"{batting.name} is batting!\")\n",
    "        while not batting.is_out:\n",
    "            bat_num = batting.play()   # Batsman chooses a number\n",
    "            bowl_num = bowling.play()  # Bowler chooses a number\n",
    "            print(f\"{bowling.name} bowled: {bowl_num}\")\n",
    "\n",
    "            if bat_num == bowl_num:\n",
    "                print(f\"{batting.name} is OUT!\")\n",
    "                batting.is_out = True  # Player is out, end of innings\n",
    "            else:\n",
    "                batting.score += bat_num  # Add runs to the batsman’s score\n",
    "                print(f\"{batting.name}'s Score: {batting.score}\")\n",
    "        return batting.score\n",
    "    def start_game(self):\n",
    "        print(\"First Innings\")\n",
    "        self.target = self.play_innings(self.player1, self.player2) + 1\n",
    "        print(f\"Target for {self.player2.name}: {self.target}\")\n",
    "\n",
    "        print(\"Second Innings\")\n",
    "        comp_score = self.play_innings(self.player2, self.player1)\n",
    "\n",
    "        self.declare_winner(comp_score)\n",
    "    def declare_winner(self, comp_score):\n",
    "        print(\"Game Over!\")\n",
    "        print(f\"{self.player1.name}'s Score: {self.player1.score}\")\n",
    "        print(f\"{self.player2.name}'s Score: {comp_score}\")\n",
    "\n",
    "        if self.player1.score > comp_score:\n",
    "            print(f\"{self.player1.name} Wins!\")\n",
    "        elif self.player1.score < comp_score:\n",
    "            print(f\"{self.player2.name} Wins!\")\n",
    "        else:\n",
    "            print(\"It's a Tie!\")\n",
    "if __name__ == \"__main__\":\n",
    "    name1 = input(\"Enter Player 1 name: \")\n",
    "    name2 = input(\"Enter Player 2 name: \")\n",
    "    game = HandCricket(name1, name2)\n",
    "    game.start_game()\n"
   ]
  }
 ],
 "metadata": {
  "kernelspec": {
   "display_name": "Python 3 (ipykernel)",
   "language": "python",
   "name": "python3"
  },
  "language_info": {
   "codemirror_mode": {
    "name": "ipython",
    "version": 3
   },
   "file_extension": ".py",
   "mimetype": "text/x-python",
   "name": "python",
   "nbconvert_exporter": "python",
   "pygments_lexer": "ipython3",
   "version": "3.12.7"
  }
 },
 "nbformat": 4,
 "nbformat_minor": 5
}
